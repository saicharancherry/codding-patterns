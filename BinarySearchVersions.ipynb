{
  "nbformat": 4,
  "nbformat_minor": 0,
  "metadata": {
    "colab": {
      "name": "BinarySearchVersions",
      "provenance": [],
      "collapsed_sections": [],
      "authorship_tag": "ABX9TyPAeVN49JaACVYHrVyAqM0E",
      "include_colab_link": true
    },
    "kernelspec": {
      "name": "python3",
      "display_name": "Python 3"
    },
    "language_info": {
      "name": "python"
    }
  },
  "cells": [
    {
      "cell_type": "markdown",
      "metadata": {
        "id": "view-in-github",
        "colab_type": "text"
      },
      "source": [
        "<a href=\"https://colab.research.google.com/github/saicharancherry/codding-patterns/blob/main/BinarySearchVersions.ipynb\" target=\"_parent\"><img src=\"https://colab.research.google.com/assets/colab-badge.svg\" alt=\"Open In Colab\"/></a>"
      ]
    },
    {
      "cell_type": "code",
      "execution_count": 1,
      "metadata": {
        "id": "2zOWsZPWHJu9"
      },
      "outputs": [],
      "source": [
        "arr = [1, 3, 3, 4, 4, 6, 6, 6, 6, 6]"
      ]
    },
    {
      "cell_type": "code",
      "source": [
        "#left most search index\n",
        "# returns number len of arr[:i] where all elements less than key\n",
        "def bisect_left(key):\n",
        "  low, high = 0, len(arr)-1\n",
        "  while low  < high:\n",
        "    mid = (low + high)//2\n",
        "    if arr[mid] < key: low = mid+1\n",
        "    else: high = mid\n",
        "  return low"
      ],
      "metadata": {
        "id": "Itj8AuqIHP0q"
      },
      "execution_count": null,
      "outputs": []
    },
    {
      "cell_type": "code",
      "source": [
        "bisect_left(4)"
      ],
      "metadata": {
        "colab": {
          "base_uri": "https://localhost:8080/"
        },
        "id": "yuGtvA6VIShf",
        "outputId": "9fe70ebb-baa2-4792-e9e3-6ce5e298ed31"
      },
      "execution_count": null,
      "outputs": [
        {
          "output_type": "execute_result",
          "data": {
            "text/plain": [
              "3"
            ]
          },
          "metadata": {},
          "execution_count": 25
        }
      ]
    },
    {
      "cell_type": "code",
      "source": [
        "#Right most search index\n",
        "# returns number len of arr[:i] where all elements less than or equal to key\n",
        "def bisect_right(key):\n",
        "  low, high = 0, len(arr)-1\n",
        "  while low < high:\n",
        "    mid = (low + high)//2\n",
        "    if arr[mid] > key: high = mid\n",
        "    else: low = mid +1\n",
        "  return low"
      ],
      "metadata": {
        "id": "pRMFp0WxIjFo"
      },
      "execution_count": null,
      "outputs": []
    },
    {
      "cell_type": "code",
      "source": [
        "bisect_right(4)"
      ],
      "metadata": {
        "colab": {
          "base_uri": "https://localhost:8080/"
        },
        "id": "I7X4hf8rKlyq",
        "outputId": "dfb5db75-d9ea-4e16-d9a4-55b567e80dc5"
      },
      "execution_count": null,
      "outputs": [
        {
          "output_type": "execute_result",
          "data": {
            "text/plain": [
              "5"
            ]
          },
          "metadata": {},
          "execution_count": 27
        }
      ]
    },
    {
      "cell_type": "code",
      "source": [
        "#Search for an element in Rotated Sorted Array\n",
        "def search(arr, target):\n",
        "  low, high = 0, len(arr)\n",
        "  while low < high:\n",
        "    mid = (low + high)//2\n",
        "    #if target found \n",
        "    if arr[mid] == target:\n",
        "      return mid\n",
        "    if arr[low] <= arr[mid] and arr[low]<=target<=arr[mid]:       #if first half of arr is sorted and element lies in between\n",
        "      high = mid -1\n",
        "    elif arr[low] <= arr[mid] and not arr[low]<=target<=arr[mid]: #if first half of arr is sorted, but target is not present\n",
        "      low = mid + 1\n",
        "    elif target >= arr[mid] or target <= arr[high]:               #or, in an unsorted arr, if target is greater than mid ar less than high. ex: [4,5,6,1,2] this condition works for targets [4,5,6,1,2]\n",
        "      low = mid+1\n",
        "  # elif target <= arr[high]:\n",
        "  return low"
      ],
      "metadata": {
        "id": "FcRTrYePkJE8"
      },
      "execution_count": 2,
      "outputs": []
    },
    {
      "cell_type": "code",
      "source": [
        "arr = [4,5,6,6,7,1,2,3]\n",
        "ans = search(arr, 1)\n",
        "print(\"index : \", ans)"
      ],
      "metadata": {
        "id": "9CTNsVqjmhIq",
        "outputId": "06924b10-59de-4436-8299-00bf1fdb1a62",
        "colab": {
          "base_uri": "https://localhost:8080/"
        }
      },
      "execution_count": 11,
      "outputs": [
        {
          "output_type": "stream",
          "name": "stdout",
          "text": [
            "index :  5\n"
          ]
        }
      ]
    }
  ]
}
