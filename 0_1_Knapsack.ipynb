{
  "nbformat": 4,
  "nbformat_minor": 0,
  "metadata": {
    "colab": {
      "provenance": [],
      "authorship_tag": "ABX9TyPHypwzFc9UzkGH8xAiK5Cb",
      "include_colab_link": true
    },
    "kernelspec": {
      "name": "python3",
      "display_name": "Python 3"
    },
    "language_info": {
      "name": "python"
    }
  },
  "cells": [
    {
      "cell_type": "markdown",
      "metadata": {
        "id": "view-in-github",
        "colab_type": "text"
      },
      "source": [
        "<a href=\"https://colab.research.google.com/github/saicharancherry/codding-patterns/blob/main/0_1_Knapsack.ipynb\" target=\"_parent\"><img src=\"https://colab.research.google.com/assets/colab-badge.svg\" alt=\"Open In Colab\"/></a>"
      ]
    },
    {
      "cell_type": "code",
      "execution_count": null,
      "metadata": {
        "id": "cXZAqeaEmWsA"
      },
      "outputs": [],
      "source": [
        "# 0/1 knapsack\n",
        "\n",
        "def knapsack(self, arr, target, n):\n",
        "    dp = [[0 for i in range(target+1)] for i in range(n+1)]\n",
        "    dp[0][0] = 1\n",
        "\n",
        "    for i in range(1, n+1):\n",
        "        for j in range(target+1):\n",
        "            if arr[i-1] <= j:\n",
        "                dp[i][j] = dp[i-1][j - arr[i-1]] + dp[i-1][j]\n",
        "            else:\n",
        "                dp[i][j] = dp[i-1][j]\n",
        "\n",
        "    return dp[n][target]"
      ]
    }
  ]
}