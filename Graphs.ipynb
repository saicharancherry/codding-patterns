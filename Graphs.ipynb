{
  "nbformat": 4,
  "nbformat_minor": 0,
  "metadata": {
    "colab": {
      "name": "Graphs.ipynb",
      "provenance": [],
      "collapsed_sections": [],
      "authorship_tag": "ABX9TyPM59sM2p09H65hMpATRWfz",
      "include_colab_link": true
    },
    "kernelspec": {
      "name": "python3",
      "display_name": "Python 3"
    },
    "language_info": {
      "name": "python"
    }
  },
  "cells": [
    {
      "cell_type": "markdown",
      "metadata": {
        "id": "view-in-github",
        "colab_type": "text"
      },
      "source": [
        "<a href=\"https://colab.research.google.com/github/saicharancherry/codding-patterns/blob/main/Graphs.ipynb\" target=\"_parent\"><img src=\"https://colab.research.google.com/assets/colab-badge.svg\" alt=\"Open In Colab\"/></a>"
      ]
    },
    {
      "cell_type": "markdown",
      "source": [
        "Minimum Spanning Tree"
      ],
      "metadata": {
        "id": "qm9kxNYO_dMO"
      }
    },
    {
      "cell_type": "code",
      "execution_count": null,
      "metadata": {
        "id": "nga0bq6k_ZV8"
      },
      "outputs": [],
      "source": [
        "# https://www.hackerearth.com/practice/algorithms/graphs/minimum-spanning-tree/tutorial/"
      ]
    },
    {
      "cell_type": "markdown",
      "source": [
        "Dijkstra Algorithm"
      ],
      "metadata": {
        "id": "YVxLT_Verxea"
      }
    },
    {
      "cell_type": "code",
      "source": [
        "#https://leetcode.com/problems/network-delay-time/\n",
        "import heapq\n",
        "class Solution:\n",
        "    def buildGraph(self, times, n):\n",
        "        graph = dict((i, []) for i in range(1, n+1))\n",
        "        for parent, child, weight in times:\n",
        "            graph[parent].append((child, weight))\n",
        "        return graph\n",
        "    \n",
        "    def Dijkstra(self, graph, startV, n):\n",
        "        dist = [float('+Inf') for i in range(n+1)]\n",
        "        dist[0], dist[startV] = 0, 0\n",
        "        mH = [] #minHeap\n",
        "        heapq.heappush(mH, [0, startV])\n",
        "        \n",
        "        while mH:\n",
        "            mD, u = heapq.heappop(mH)\n",
        "            for v, w in graph[u]:\n",
        "                if dist[u] + w < dist[v]:\n",
        "                    dist[v] = dist[u] + w\n",
        "                    heapq.heappush(mH, [dist[v], v])\n",
        "                    \n",
        "        minTime = max(dist) \n",
        "        if minTime != float('+Inf'):\n",
        "            return minTime\n",
        "        return -1\n",
        "        \n",
        "    def networkDelayTime(self, times: List[List[int]], n: int, k: int) -> int:\n",
        "        graph = self.buildGraph(times, n)\n",
        "        return self.Dijkstra(graph, k, n)"
      ],
      "metadata": {
        "id": "n3eJ3YAArzsF"
      },
      "execution_count": null,
      "outputs": []
    }
  ]
}