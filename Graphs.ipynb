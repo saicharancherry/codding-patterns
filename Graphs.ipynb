{
  "nbformat": 4,
  "nbformat_minor": 0,
  "metadata": {
    "colab": {
      "name": "Graphs.ipynb",
      "provenance": [],
      "collapsed_sections": [],
      "authorship_tag": "ABX9TyNjGYK4K85O3acvpmXUHq4I",
      "include_colab_link": true
    },
    "kernelspec": {
      "name": "python3",
      "display_name": "Python 3"
    },
    "language_info": {
      "name": "python"
    }
  },
  "cells": [
    {
      "cell_type": "markdown",
      "metadata": {
        "id": "view-in-github",
        "colab_type": "text"
      },
      "source": [
        "<a href=\"https://colab.research.google.com/github/saicharancherry/codding-patterns/blob/main/Graphs.ipynb\" target=\"_parent\"><img src=\"https://colab.research.google.com/assets/colab-badge.svg\" alt=\"Open In Colab\"/></a>"
      ]
    },
    {
      "cell_type": "markdown",
      "source": [
        "Minimum Spanning Tree"
      ],
      "metadata": {
        "id": "qm9kxNYO_dMO"
      }
    },
    {
      "cell_type": "code",
      "execution_count": null,
      "metadata": {
        "id": "nga0bq6k_ZV8"
      },
      "outputs": [],
      "source": [
        "# https://www.hackerearth.com/practice/algorithms/graphs/minimum-spanning-tree/tutorial/"
      ]
    },
    {
      "cell_type": "markdown",
      "source": [
        "Dijkstra Algorithm"
      ],
      "metadata": {
        "id": "YVxLT_Verxea"
      }
    },
    {
      "cell_type": "code",
      "source": [
        "#https://leetcode.com/problems/network-delay-time/\n",
        "import heapq\n",
        "class Solution:\n",
        "    def buildGraph(self, times, n):\n",
        "        graph = dict((i, []) for i in range(1, n+1))\n",
        "        for parent, child, weight in times:\n",
        "            graph[parent].append((child, weight))\n",
        "        return graph\n",
        "    \n",
        "    def Dijkstra(self, graph, startV, n):\n",
        "        dist = [float('+Inf') for i in range(n+1)]\n",
        "        dist[0], dist[startV] = 0, 0\n",
        "        mH = [] #minHeap\n",
        "        heapq.heappush(mH, [0, startV])\n",
        "        \n",
        "        while mH:\n",
        "            mD, u = heapq.heappop(mH)\n",
        "            for v, w in graph[u]:\n",
        "                if dist[u] + w < dist[v]:\n",
        "                    dist[v] = dist[u] + w\n",
        "                    heapq.heappush(mH, [dist[v], v])\n",
        "                    \n",
        "        minTime = max(dist) \n",
        "        if minTime != float('+Inf'):\n",
        "            return minTime\n",
        "        return -1\n",
        "        \n",
        "    def networkDelayTime(self, times: List[List[int]], n: int, k: int) -> int:\n",
        "        graph = self.buildGraph(times, n)\n",
        "        return self.Dijkstra(graph, k, n)"
      ],
      "metadata": {
        "id": "n3eJ3YAArzsF"
      },
      "execution_count": null,
      "outputs": []
    },
    {
      "cell_type": "markdown",
      "source": [
        "BFS"
      ],
      "metadata": {
        "id": "Nf1G8Ibo83Qn"
      }
    },
    {
      "cell_type": "code",
      "source": [
        "# https://leetcode.com/problems/count-unreachable-pairs-of-nodes-in-an-undirected-graph/\n",
        "from collections import deque\n",
        "class Solution:\n",
        "    def buildGraph(self, edges, n):\n",
        "        graph =  dict((i, []) for i in range(n+1))\n",
        "        for i, j in edges:\n",
        "            graph[i].append(j)\n",
        "            graph[j].append(i)\n",
        "        return graph\n",
        "    \n",
        "    #Iterative BFS\n",
        "    def BFS(self, graph, node):\n",
        "        que = deque()\n",
        "        que.append(node)\n",
        "        nNodes = 1\n",
        "        while que:\n",
        "            front = que.popleft()\n",
        "            \n",
        "            for i in graph[front]:\n",
        "                if not self.visited[i]:\n",
        "                    nNodes+=1\n",
        "                    self.visited[i] = True\n",
        "                    que.append(i)\n",
        "        return nNodes\n",
        "        \n",
        "        \n",
        "        \n",
        "    def countPairs(self, n: int, edges: List[List[int]]) -> int:\n",
        "        graph = self.buildGraph(edges, n)\n",
        "        self.visited = [False for i in range(n+1)]\n",
        "        nodesCount = []\n",
        "        cumulSum, ans = [], 0\n",
        "        \n",
        "        for node in range(n):\n",
        "            if not self.visited[node]:\n",
        "                self.visited[node] = True\n",
        "                #calling BFS\n",
        "                nNodes = self.BFS(graph, node)\n",
        "                nodesCount.append(nNodes)\n",
        "                cSum = 0\n",
        "                \n",
        "        if len(nodesCount) == 1:\n",
        "            return 0\n",
        "        for i in range(len(nodesCount)-1, -1, -1):\n",
        "            cSum+=nodesCount[i]\n",
        "            cumulSum.append(cSum)\n",
        "        cumulSum = cumulSum[::-1]\n",
        "        for i in range(len(nodesCount)-1):\n",
        "            ans += nodesCount[i] * cumulSum[i+1]\n",
        "        # print(nodesCount, cumulSum)\n",
        "        return ans\n",
        "        "
      ],
      "metadata": {
        "id": "oaHqsUAf84Cw"
      },
      "execution_count": null,
      "outputs": []
    }
  ]
}